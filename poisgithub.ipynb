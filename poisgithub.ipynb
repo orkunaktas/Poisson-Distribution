{
 "cells": [
  {
   "cell_type": "markdown",
   "id": "8ff7b73e-7acd-4574-81d1-f28f8cbe6258",
   "metadata": {},
   "source": [
    "# Poisson Distribution"
   ]
  },
  {
   "cell_type": "markdown",
   "id": "dc22ebec-dae5-47b2-93e3-6c0b292b3cd9",
   "metadata": {},
   "source": [
    "#### Bir çağrı merkezinde, bir saatte ortalama 5 çağrı alındığını düşünelim (𝜆 = 5). Bu durumda, bir saatlik bir zaman diliminde tam olarak 3 çağrı gelme olasılığını bulmak istiyoruz."
   ]
  },
  {
   "cell_type": "code",
   "execution_count": 16,
   "id": "fe81e718-7fa7-41c9-84b2-073b8ee9ffb8",
   "metadata": {},
   "outputs": [
    {
     "name": "stdout",
     "output_type": "stream",
     "text": [
      "Tam olarak 3 çağrı gelme olasılığı: 0.1404\n"
     ]
    }
   ],
   "source": [
    "import math\n",
    "\n",
    "# Verilen değerler\n",
    "lambda_value = 5  # Ortalama çağrı sayısı (λ)\n",
    "k = 3  # Tam olarak 3 çağrı gelme olasılığını hesaplıyoruz\n",
    "\n",
    "# Poisson olasılığı hesaplama\n",
    "poisson_probability = (lambda_value**k) * math.exp(-lambda_value) / math.factorial(k)\n",
    "\n",
    "print(f\"Tam olarak {k} çağrı gelme olasılığı: {poisson_probability:.4f}\")\n"
   ]
  },
  {
   "cell_type": "code",
   "execution_count": 6,
   "id": "9e1d1e8b-4dd3-4300-aa3f-ea675bdabf54",
   "metadata": {},
   "outputs": [
    {
     "name": "stdout",
     "output_type": "stream",
     "text": [
      "Tam olarak 3 arama gelme oranı: %14.10\n"
     ]
    }
   ],
   "source": [
    "import numpy as np\n",
    "\n",
    "# Ortalama (lambda) değeri\n",
    "lambda_value = 5  # Saatte gelen ortalama arama sayısı\n",
    "\n",
    "# İncelenen belirli değer\n",
    "k = 3  # Tam olarak 3 arama gelmesi durumunu inceleyeceğiz\n",
    "\n",
    "# Simülasyon sayısı\n",
    "num_simulations = 10000\n",
    "\n",
    "# Sayaç\n",
    "occurrences = 0\n",
    "\n",
    "for _ in range(num_simulations):\n",
    "    # Poisson dağılımına göre rastgele çağrı sayısı üretme\n",
    "    calls = np.random.poisson(lambda_value)\n",
    "    \n",
    "    # Eğer tam olarak k çağrı geldiyse\n",
    "    if calls == k:\n",
    "        occurrences += 1\n",
    "\n",
    "# Belirli değerin (tam olarak k çağrı) gelme oranını hesaplama\n",
    "occurrence_rate = occurrences / num_simulations\n",
    "\n",
    "print(f\"Tam olarak {k} arama gelme oranı: %{occurrence_rate * 100:.2f}\")\n"
   ]
  },
  {
   "cell_type": "code",
   "execution_count": 1,
   "id": "4a287df9-fb0d-4f7d-82b4-4096bf103ac2",
   "metadata": {},
   "outputs": [
    {
     "name": "stdout",
     "output_type": "stream",
     "text": [
      "4 arama gelme oranı: %17.91\n",
      "5 arama gelme oranı: %17.90\n",
      "6 arama gelme oranı: %14.66\n",
      "3 arama gelme oranı: %14.23\n",
      "7 arama gelme oranı: %9.86\n"
     ]
    }
   ],
   "source": [
    "import numpy as np\n",
    "from collections import Counter\n",
    "\n",
    "# Ortalama (lambda) değeri\n",
    "lambda_value = 5  # Saatte gelen ortalama arama sayısı\n",
    "\n",
    "# Simülasyon sayısı\n",
    "num_simulations = 10000\n",
    "\n",
    "# Tüm simülasyon sonuçlarını tutacak liste\n",
    "call_counts = []\n",
    "\n",
    "for _ in range(num_simulations):\n",
    "    # Poisson dağılımına göre rastgele çağrı sayısı üretme\n",
    "    calls = np.random.poisson(lambda_value)\n",
    "    call_counts.append(calls)\n",
    "\n",
    "# Simülasyon sonuçlarını say\n",
    "counted_calls = Counter(call_counts)\n",
    "\n",
    "# En yüksek oranları bulan ve sıralayan bölüm\n",
    "most_common_calls = counted_calls.most_common(5)\n",
    "for calls, count in most_common_calls:\n",
    "    rate = (count / num_simulations) * 100\n",
    "    print(f\"{calls} arama gelme oranı: %{rate:.2f}\")\n"
   ]
  },
  {
   "cell_type": "code",
   "execution_count": null,
   "id": "dde36e09-b7d9-4db9-a0ff-4fe80e876cbf",
   "metadata": {},
   "outputs": [],
   "source": []
  }
 ],
 "metadata": {
  "kernelspec": {
   "display_name": "Python 3 (ipykernel)",
   "language": "python",
   "name": "python3"
  },
  "language_info": {
   "codemirror_mode": {
    "name": "ipython",
    "version": 3
   },
   "file_extension": ".py",
   "mimetype": "text/x-python",
   "name": "python",
   "nbconvert_exporter": "python",
   "pygments_lexer": "ipython3",
   "version": "3.11.4"
  }
 },
 "nbformat": 4,
 "nbformat_minor": 5
}
